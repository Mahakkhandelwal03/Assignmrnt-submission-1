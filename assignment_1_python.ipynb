{
  "nbformat": 4,
  "nbformat_minor": 0,
  "metadata": {
    "colab": {
      "name": "assignment 1 python",
      "provenance": [],
      "authorship_tag": "ABX9TyPLzpan5X0+gcHJiuw/C9K9",
      "include_colab_link": true
    },
    "kernelspec": {
      "name": "python3",
      "display_name": "Python 3"
    }
  },
  "cells": [
    {
      "cell_type": "markdown",
      "metadata": {
        "id": "view-in-github",
        "colab_type": "text"
      },
      "source": [
        "<a href=\"https://colab.research.google.com/github/Mahakkhandelwal03/Assignmrnt-submission-1/blob/main/assignment_1_python.ipynb\" target=\"_parent\"><img src=\"https://colab.research.google.com/assets/colab-badge.svg\" alt=\"Open In Colab\"/></a>"
      ]
    },
    {
      "cell_type": "code",
      "metadata": {
        "id": "HcFPFJGrK-2n"
      },
      "source": [
        "lst = [1,2,3,4,[\"X\",\"Y\"],90.4,\"Sit\"]"
      ],
      "execution_count": 54,
      "outputs": []
    },
    {
      "cell_type": "code",
      "metadata": {
        "colab": {
          "base_uri": "https://localhost:8080/"
        },
        "id": "zAlZTTRmLz8v",
        "outputId": "50933c0f-da0e-403f-8262-e4cf99b0fa12"
      },
      "source": [
        "lst[0]"
      ],
      "execution_count": 55,
      "outputs": [
        {
          "output_type": "execute_result",
          "data": {
            "text/plain": [
              "1"
            ]
          },
          "metadata": {
            "tags": []
          },
          "execution_count": 55
        }
      ]
    },
    {
      "cell_type": "code",
      "metadata": {
        "colab": {
          "base_uri": "https://localhost:8080/"
        },
        "id": "Ts2J4N71L5pf",
        "outputId": "7a4f3acb-7497-41d9-83a5-82a5d60377c0"
      },
      "source": [
        "lst[4]"
      ],
      "execution_count": 56,
      "outputs": [
        {
          "output_type": "execute_result",
          "data": {
            "text/plain": [
              "['X', 'Y']"
            ]
          },
          "metadata": {
            "tags": []
          },
          "execution_count": 56
        }
      ]
    },
    {
      "cell_type": "code",
      "metadata": {
        "colab": {
          "base_uri": "https://localhost:8080/"
        },
        "id": "MNdeEWAHMuOn",
        "outputId": "d658f3ca-da8e-455b-9215-355e9e45ca47"
      },
      "source": [
        "lst"
      ],
      "execution_count": 68,
      "outputs": [
        {
          "output_type": "execute_result",
          "data": {
            "text/plain": [
              "[1, 2, 3, 4, ['X', 'Y'], 'Hello', 'Hello', 90.4, 'Sit', 'Please', 'Ram', 'OK']"
            ]
          },
          "metadata": {
            "tags": []
          },
          "execution_count": 68
        }
      ]
    },
    {
      "cell_type": "code",
      "metadata": {
        "id": "dYcTJjMEMFxw"
      },
      "source": [
        "lst.append('Please')"
      ],
      "execution_count": 58,
      "outputs": []
    },
    {
      "cell_type": "code",
      "metadata": {
        "id": "hp9HmslLMwMx"
      },
      "source": [
        "lst.insert(5,'Hello')"
      ],
      "execution_count": 65,
      "outputs": []
    },
    {
      "cell_type": "code",
      "metadata": {
        "id": "_oO4L2x_M9MF"
      },
      "source": [
        "lst.extend(['Ram','OK'])"
      ],
      "execution_count": 67,
      "outputs": []
    },
    {
      "cell_type": "code",
      "metadata": {
        "colab": {
          "base_uri": "https://localhost:8080/"
        },
        "id": "UGPzOanMN7NE",
        "outputId": "91f25149-c78d-4bc2-da1d-23742a23a7fe"
      },
      "source": [
        "lst.index(2)"
      ],
      "execution_count": 72,
      "outputs": [
        {
          "output_type": "execute_result",
          "data": {
            "text/plain": [
              "1"
            ]
          },
          "metadata": {
            "tags": []
          },
          "execution_count": 72
        }
      ]
    },
    {
      "cell_type": "code",
      "metadata": {
        "colab": {
          "base_uri": "https://localhost:8080/"
        },
        "id": "pXByPCthOFY3",
        "outputId": "3f1a2395-b1ca-478e-a71d-6b4b3097d002"
      },
      "source": [
        "lst.pop(9)"
      ],
      "execution_count": 73,
      "outputs": [
        {
          "output_type": "execute_result",
          "data": {
            "application/vnd.google.colaboratory.intrinsic+json": {
              "type": "string"
            },
            "text/plain": [
              "'Please'"
            ]
          },
          "metadata": {
            "tags": []
          },
          "execution_count": 73
        }
      ]
    },
    {
      "cell_type": "code",
      "metadata": {
        "colab": {
          "base_uri": "https://localhost:8080/"
        },
        "id": "PZCUxxtiOj-5",
        "outputId": "8b32542b-ae34-4d5d-89ab-9988853dedaf"
      },
      "source": [
        "lst"
      ],
      "execution_count": 74,
      "outputs": [
        {
          "output_type": "execute_result",
          "data": {
            "text/plain": [
              "[1, 2, 3, 4, ['X', 'Y'], 'Hello', 'Hello', 90.4, 'Sit', 'Ram', 'OK']"
            ]
          },
          "metadata": {
            "tags": []
          },
          "execution_count": 74
        }
      ]
    },
    {
      "cell_type": "code",
      "metadata": {
        "id": "LyQGucH0YaRt"
      },
      "source": [
        "lst.clear()"
      ],
      "execution_count": 121,
      "outputs": []
    },
    {
      "cell_type": "code",
      "metadata": {
        "id": "8rJLbyMRYeJa",
        "outputId": "5b8bb76d-2676-4fb5-86ee-2d35b381d1b1",
        "colab": {
          "base_uri": "https://localhost:8080/"
        }
      },
      "source": [
        "lst"
      ],
      "execution_count": 122,
      "outputs": [
        {
          "output_type": "execute_result",
          "data": {
            "text/plain": [
              "[]"
            ]
          },
          "metadata": {
            "tags": []
          },
          "execution_count": 122
        }
      ]
    },
    {
      "cell_type": "code",
      "metadata": {
        "id": "jA_j_bJgSAaw"
      },
      "source": [
        "dit  = {\"Mahak\":\"Girl\",\"Bhavay\":\"Boy\"}"
      ],
      "execution_count": 89,
      "outputs": []
    },
    {
      "cell_type": "code",
      "metadata": {
        "id": "k5K0dvOeTqHM",
        "outputId": "6dea2a9a-6271-4593-acde-69056bb701b4",
        "colab": {
          "base_uri": "https://localhost:8080/"
        }
      },
      "source": [
        "dit"
      ],
      "execution_count": 93,
      "outputs": [
        {
          "output_type": "execute_result",
          "data": {
            "text/plain": [
              "{}"
            ]
          },
          "metadata": {
            "tags": []
          },
          "execution_count": 93
        }
      ]
    },
    {
      "cell_type": "code",
      "metadata": {
        "id": "JZ-pD9l_TsM4"
      },
      "source": [
        "dit.clear()"
      ],
      "execution_count": 92,
      "outputs": []
    },
    {
      "cell_type": "code",
      "metadata": {
        "id": "20S_3suAURo5"
      },
      "source": [
        "dit = {1:'one',2:'two',3:'three'}"
      ],
      "execution_count": 118,
      "outputs": []
    },
    {
      "cell_type": "code",
      "metadata": {
        "id": "6KkJNPmWUjRo",
        "outputId": "79389653-7427-4d06-eafe-8d9fe0515d37",
        "colab": {
          "base_uri": "https://localhost:8080/"
        }
      },
      "source": [
        "dit.items()"
      ],
      "execution_count": 96,
      "outputs": [
        {
          "output_type": "execute_result",
          "data": {
            "text/plain": [
              "dict_items([(1, 'one'), (2, 'two'), (3, 'three')])"
            ]
          },
          "metadata": {
            "tags": []
          },
          "execution_count": 96
        }
      ]
    },
    {
      "cell_type": "code",
      "metadata": {
        "id": "BPLkRrFTUno6",
        "outputId": "39123958-f376-48d6-cbc9-a391f9dccf6b",
        "colab": {
          "base_uri": "https://localhost:8080/"
        }
      },
      "source": [
        "dit.keys()"
      ],
      "execution_count": 97,
      "outputs": [
        {
          "output_type": "execute_result",
          "data": {
            "text/plain": [
              "dict_keys([1, 2, 3])"
            ]
          },
          "metadata": {
            "tags": []
          },
          "execution_count": 97
        }
      ]
    },
    {
      "cell_type": "code",
      "metadata": {
        "id": "4QEy5g--YOgg"
      },
      "source": [
        "dit.clear()"
      ],
      "execution_count": 119,
      "outputs": []
    },
    {
      "cell_type": "code",
      "metadata": {
        "id": "mj_O764kYSm1",
        "outputId": "3e7ac1f8-49da-4508-ed9f-f50b3976db4b",
        "colab": {
          "base_uri": "https://localhost:8080/"
        }
      },
      "source": [
        "dit"
      ],
      "execution_count": 120,
      "outputs": [
        {
          "output_type": "execute_result",
          "data": {
            "text/plain": [
              "{}"
            ]
          },
          "metadata": {
            "tags": []
          },
          "execution_count": 120
        }
      ]
    },
    {
      "cell_type": "code",
      "metadata": {
        "id": "p4MuiUzPU8Xx",
        "outputId": "cd3a7ced-1809-4c1c-d719-a47a2ac0d40b",
        "colab": {
          "base_uri": "https://localhost:8080/"
        }
      },
      "source": [
        "dit.values()"
      ],
      "execution_count": 98,
      "outputs": [
        {
          "output_type": "execute_result",
          "data": {
            "text/plain": [
              "dict_values(['one', 'two', 'three'])"
            ]
          },
          "metadata": {
            "tags": []
          },
          "execution_count": 98
        }
      ]
    },
    {
      "cell_type": "code",
      "metadata": {
        "id": "gZY6w_2mW3qK"
      },
      "source": [
        "dit = {2:'two',5:'five',1:'one'}"
      ],
      "execution_count": 116,
      "outputs": []
    },
    {
      "cell_type": "code",
      "metadata": {
        "id": "wH7VJgNgXTn5",
        "outputId": "a08d1545-2e67-41f1-ae7f-2efda670f4e7",
        "colab": {
          "base_uri": "https://localhost:8080/"
        }
      },
      "source": [
        "dit.popitem()"
      ],
      "execution_count": 109,
      "outputs": [
        {
          "output_type": "execute_result",
          "data": {
            "text/plain": [
              "(1, 'one')"
            ]
          },
          "metadata": {
            "tags": []
          },
          "execution_count": 109
        }
      ]
    }
  ]
}